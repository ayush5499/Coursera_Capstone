{
 "cells": [
  {
   "cell_type": "markdown",
   "metadata": {},
   "source": [
    "# Introduction/Business Problem"
   ]
  },
  {
   "cell_type": "markdown",
   "metadata": {},
   "source": [
    "Road accidents are a big problem for the local authorities, emergency staff and also the people travelling on road near the accident sites. We look to build a system that takes in the road, environment and neighbourhood conditions and lets the user know the risk of their travel that day.\n",
    "\n",
    "This system will make a average commuter's life a paradise, they can just feed the destination and environmental conditions and the system will tell the user about the risk of their travel.\n",
    "\n",
    "The System is goinf to be hosted on my personal domain and will be serviced by me."
   ]
  },
  {
   "cell_type": "markdown",
   "metadata": {},
   "source": [
    "# Data"
   ]
  },
  {
   "cell_type": "markdown",
   "metadata": {},
   "source": [
    "To solve the problem at hand we use the data from Seattle city as our basis for development of the model. We make a assumption that the data is a good generalisation of driving and accident patterns for the whole country.\n",
    "\n",
    "Data set comes SDOT Traffic Management Division, Traffic Records Group database of all accidents in Seattle. Data has 194673 entries and consists of 37 feature fields.\n",
    "\n",
    "Data has location, collition type, weather, road condition, light condition. these features will enable us to train the model that will be used for future prediction.\n",
    "\n",
    "In addition to this we have the severity of each incident which is act as out target in modelling phase"
   ]
  },
  {
   "cell_type": "code",
   "execution_count": null,
   "metadata": {},
   "outputs": [],
   "source": []
  }
 ],
 "metadata": {
  "kernelspec": {
   "display_name": "Python 3",
   "language": "python",
   "name": "python3"
  },
  "language_info": {
   "codemirror_mode": {
    "name": "ipython",
    "version": 3
   },
   "file_extension": ".py",
   "mimetype": "text/x-python",
   "name": "python",
   "nbconvert_exporter": "python",
   "pygments_lexer": "ipython3",
   "version": "3.8.3"
  }
 },
 "nbformat": 4,
 "nbformat_minor": 4
}
